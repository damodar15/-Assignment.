{
 "cells": [
  {
   "cell_type": "markdown",
   "id": "1c188d13-b17a-4b22-909c-d4516ca69c64",
   "metadata": {},
   "source": [
    "## Author \n",
    "Damodar Bhattarai"
   ]
  },
  {
   "cell_type": "markdown",
   "id": "7bf6c1de-ffa7-4a08-9757-8370118d479e",
   "metadata": {},
   "source": [
    "#### Data Science Tools and Ecosystem \n",
    "###### In this notebook, Data Science Tools and Ecosystem are summarized"
   ]
  },
  {
   "cell_type": "markdown",
   "id": "72f22f50-8585-47ff-a2d2-ba48ff418062",
   "metadata": {},
   "source": [
    "**Objective:**\n",
    "* Tools for data science.\n",
    "* Libraries for the Data Science.\n",
    "* Solving a arithmetic expression in Jupiter Notebook.\n",
    "* Problem for changing minutes to hour.\n",
    "* Dive into Git and GitHub.\n",
    "\n",
    "##### List of popular language for Data Science\n",
    "* Python\n",
    "* R\n",
    "* SQL\n",
    "* Julia"
   ]
  },
  {
   "cell_type": "markdown",
   "id": "bc65a398-357d-4ff2-8bc4-ee5233c37a6d",
   "metadata": {
    "tags": []
   },
   "source": [
    "#### Some of the commonly used libraries used by Data Scientists included\n",
    "1. NumPy\n",
    "2. Pandas\n",
    "3. ggplot2\n",
    "4. dplyr"
   ]
  },
  {
   "cell_type": "markdown",
   "id": "809198ef-55c7-4b4d-a76e-a32fdc5f0e77",
   "metadata": {
    "tags": []
   },
   "source": [
    "|Data Science Tools|\n",
    "|------------------|\n",
    "|1. Jupyter Notebook|\n",
    "|2. RStudio|\n",
    "|3. Apache Zeppelin|"
   ]
  },
  {
   "cell_type": "markdown",
   "id": "4c748ad0-ac43-4ac6-9f0e-9e97311f3d00",
   "metadata": {
    "tags": []
   },
   "source": [
    "#### Below are a few examples of evaluating arithmetic expression in Python."
   ]
  },
  {
   "cell_type": "code",
   "execution_count": 1,
   "id": "04cc87f5-d8e4-4b93-8f60-2078338e6f1f",
   "metadata": {
    "tags": []
   },
   "outputs": [
    {
     "name": "stdout",
     "output_type": "stream",
     "text": [
      "The expression result is: 17\n"
     ]
    }
   ],
   "source": [
    "a = 3\n",
    "b = 4\n",
    "c = 5\n",
    "\n",
    "results = (a * b) + c\n",
    "print('The expression result is:', results)"
   ]
  },
  {
   "cell_type": "code",
   "execution_count": 2,
   "id": "a343d10e-b56c-4e51-bb52-e652d52f4e4f",
   "metadata": {
    "tags": []
   },
   "outputs": [
    {
     "name": "stdout",
     "output_type": "stream",
     "text": [
      "200 Minutes in hours is: 3.3333333333333335\n"
     ]
    }
   ],
   "source": [
    "# This will convert 200 minutes to hours by dividing 60.\n",
    "time_inmin = 200\n",
    "one_hour_inmin = 60\n",
    "\n",
    "hours = time_inmin / one_hour_inmin\n",
    "print('200 Minutes in hours is:', hours)"
   ]
  }
 ],
 "metadata": {
  "kernelspec": {
   "display_name": "Python",
   "language": "python",
   "name": "conda-env-python-py"
  },
  "language_info": {
   "codemirror_mode": {
    "name": "ipython",
    "version": 3
   },
   "file_extension": ".py",
   "mimetype": "text/x-python",
   "name": "python",
   "nbconvert_exporter": "python",
   "pygments_lexer": "ipython3",
   "version": "3.7.12"
  }
 },
 "nbformat": 4,
 "nbformat_minor": 5
}
